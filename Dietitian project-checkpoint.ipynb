{
 "cells": [
  {
   "cell_type": "code",
   "execution_count": 1,
   "id": "4692e868",
   "metadata": {},
   "outputs": [],
   "source": [
    "# importing the libraries\n",
    "\n",
    "from newspaper import Article\n",
    "import random\n",
    "import string\n",
    "import nltk\n",
    "from sklearn.feature_extraction.text import CountVectorizer\n",
    "from sklearn.metrics.pairwise import cosine_similarity\n",
    "import numpy as np\n",
    "import warnings\n",
    "warnings.filterwarnings('ignore')"
   ]
  },
  {
   "cell_type": "code",
   "execution_count": 2,
   "id": "08f10ff7",
   "metadata": {},
   "outputs": [
    {
     "data": {
      "text/plain": [
       "True"
      ]
     },
     "execution_count": 2,
     "metadata": {},
     "output_type": "execute_result"
    }
   ],
   "source": [
    "# Download the punkt package\n",
    "\n",
    "nltk.download('punkt',quiet = True)"
   ]
  },
  {
   "cell_type": "code",
   "execution_count": 3,
   "id": "3464bc8d",
   "metadata": {},
   "outputs": [],
   "source": [
    "# Getting the article\n",
    "article = Article('https://www.indi.ie/about-us/what-is-a-dietitian.html')\n",
    "article.download()\n",
    "article.parse()\n",
    "article.nlp()\n",
    "corpus = article.text"
   ]
  },
  {
   "cell_type": "code",
   "execution_count": 4,
   "id": "a3d77390",
   "metadata": {},
   "outputs": [
    {
     "name": "stdout",
     "output_type": "stream",
     "text": [
      "A Dietitian is a health professional who has a Bachelor's degree or a Masters degree specialising in food and nutrition, as well as a period of practical training in a hospital and a community setting. It takes at least four years of full-time study at a university to qualify as a Dietitian at an undergraduate level. There are also now a number of fulltime Masters programmes (2 yrs) which allow those with a suitable primary degree to qualify as a Dietitian. Many Dietitians go on to further their knowledge by pursuing a Master's or Doctoral degree. Dietitians apply the science of nutrition to promote health, treat and prevent malnutrition and provide therapeutic dietary guidelines for patients, clients and the public in health and illness.\n",
      "\n",
      "Dietitians are the only qualified and regulated health professionals who assess, diagnose and treat dietary and nutritional problems at an individual and wider public health level. The title \"Registered Dietitian” and \"Dietitian/Dietician\" is protected by law so that only qualified practitioners who have met the required education qualifications and continue to maintain their knowledge and skills through continuing professional development, can use that title. CORU is responsible for regulation of health and social care professionals under the Health and Social Care Professionals’ Act, 2005, in Ireland.\n",
      "\n",
      "What is the difference between a Dietitian, nutritionist or nutritional therapist?\n",
      "\n",
      "Whilst the INDI recognises the choice of the consumer and patients to use complementary or alternative therapies, a key role of the INDI is to ensure that the public are protected from unregulated or inappropriate advice on nutrition. For more information on the regulation of health care professionals in Ireland see www.coru.ie.\n"
     ]
    }
   ],
   "source": [
    "# Print the article text\n",
    "\n",
    "print(corpus)"
   ]
  },
  {
   "cell_type": "code",
   "execution_count": 5,
   "id": "f1a10b1a",
   "metadata": {},
   "outputs": [],
   "source": [
    "# Tokenization\n",
    "\n",
    "text = corpus\n",
    "sentence_list = nltk.sent_tokenize(text) # Alist of sentences"
   ]
  },
  {
   "cell_type": "code",
   "execution_count": 6,
   "id": "cae0b8f6",
   "metadata": {},
   "outputs": [
    {
     "name": "stdout",
     "output_type": "stream",
     "text": [
      "[\"A Dietitian is a health professional who has a Bachelor's degree or a Masters degree specialising in food and nutrition, as well as a period of practical training in a hospital and a community setting.\", 'It takes at least four years of full-time study at a university to qualify as a Dietitian at an undergraduate level.', 'There are also now a number of fulltime Masters programmes (2 yrs) which allow those with a suitable primary degree to qualify as a Dietitian.', \"Many Dietitians go on to further their knowledge by pursuing a Master's or Doctoral degree.\", 'Dietitians apply the science of nutrition to promote health, treat and prevent malnutrition and provide therapeutic dietary guidelines for patients, clients and the public in health and illness.', 'Dietitians are the only qualified and regulated health professionals who assess, diagnose and treat dietary and nutritional problems at an individual and wider public health level.', 'The title \"Registered Dietitian” and \"Dietitian/Dietician\" is protected by law so that only qualified practitioners who have met the required education qualifications and continue to maintain their knowledge and skills through continuing professional development, can use that title.', 'CORU is responsible for regulation of health and social care professionals under the Health and Social Care Professionals’ Act, 2005, in Ireland.', 'What is the difference between a Dietitian, nutritionist or nutritional therapist?', 'Whilst the INDI recognises the choice of the consumer and patients to use complementary or alternative therapies, a key role of the INDI is to ensure that the public are protected from unregulated or inappropriate advice on nutrition.', 'For more information on the regulation of health care professionals in Ireland see www.coru.ie.']\n"
     ]
    }
   ],
   "source": [
    "# Print the list of sentences\n",
    "\n",
    "print(sentence_list)"
   ]
  },
  {
   "cell_type": "code",
   "execution_count": 7,
   "id": "885de1a2",
   "metadata": {},
   "outputs": [],
   "source": [
    "# A function to return a random greeting response to a user greeting\n",
    "\n",
    "def greeting_response(text):\n",
    "    text = text.lower()\n",
    "    \n",
    "    #Bots greeting response\n",
    "    bot_greetings = ['how do you','hi','hey','hello','hola']\n",
    "    #users greeting bot\n",
    "    user_greetings = ['hi','hey','hello','hola','greetings','wassup']\n",
    "    \n",
    "    for word in text.split():\n",
    "        if word in user_greetings:\n",
    "            return random.choice(bot_greetings)"
   ]
  },
  {
   "cell_type": "code",
   "execution_count": 8,
   "id": "f8d7d913",
   "metadata": {},
   "outputs": [],
   "source": [
    "def index_sort(list_var):\n",
    "    length = len(list_var)\n",
    "    list_index = list(range(0,length))\n",
    "    \n",
    "    x = list_var\n",
    "    for i in range(length):\n",
    "        for j in range(length):\n",
    "            if x[list_index[i]] > x[list_index[j]]:\n",
    "                #swap\n",
    "                temp = list_index[i]\n",
    "                list_index[i] = list_index[j]\n",
    "                list_index[j] = temp\n",
    "                \n",
    "    return list_index"
   ]
  },
  {
   "cell_type": "code",
   "execution_count": 9,
   "id": "3c010b12",
   "metadata": {},
   "outputs": [],
   "source": [
    "# Create the bots response\n",
    "\n",
    "def bot_response(user_input):\n",
    "    user_input = user_input.lower()\n",
    "    sentence_list.append(user_input)\n",
    "    bot_response = ''\n",
    "    cm = CountVectorizer().fit_transform(sentence_list)\n",
    "    similarity_scores = cosine_similarity(cm[-1], cm)\n",
    "    similarity_scores_list = similarity_scores.flatten()\n",
    "    index = index_sort(similarity_scores_list)\n",
    "    index = index[1:]\n",
    "    response_flag = 0\n",
    "    \n",
    "    j = 0\n",
    "    for i in range(len(index)):\n",
    "        if similarity_scores_list[index[i]] > 0.0:\n",
    "            bot_response = bot_response + ' ' + sentence_list[index[i]]\n",
    "            response_flag = 1\n",
    "            j = j + 1\n",
    "        if j > 2:\n",
    "            break\n",
    "            \n",
    "    if response_flag == 0:\n",
    "        bot_response = bot_response + ' ' + 'I apologize, I dont understand.'\n",
    "        \n",
    "    sentence_list.remove(user_input)\n",
    "    \n",
    "    return bot_response"
   ]
  },
  {
   "cell_type": "code",
   "execution_count": 10,
   "id": "d3a28825",
   "metadata": {
    "scrolled": false
   },
   "outputs": [
    {
     "name": "stdout",
     "output_type": "stream",
     "text": [
      "Doc Bot: I am Doctor Bot or Doc bot for short. I will answer your queries about Dietian, If you want to exit, type bye.\n",
      "hi\n",
      "Doc Bot: hola\n",
      "what is dietitian\n",
      "Doc Bot:  What is the difference between a Dietitian, nutritionist or nutritional therapist? The title \"Registered Dietitian” and \"Dietitian/Dietician\" is protected by law so that only qualified practitioners who have met the required education qualifications and continue to maintain their knowledge and skills through continuing professional development, can use that title. A Dietitian is a health professional who has a Bachelor's degree or a Masters degree specialising in food and nutrition, as well as a period of practical training in a hospital and a community setting.\n",
      "What Is a Dietitian?\n",
      "Doc Bot:  What is the difference between a Dietitian, nutritionist or nutritional therapist? The title \"Registered Dietitian” and \"Dietitian/Dietician\" is protected by law so that only qualified practitioners who have met the required education qualifications and continue to maintain their knowledge and skills through continuing professional development, can use that title. A Dietitian is a health professional who has a Bachelor's degree or a Masters degree specialising in food and nutrition, as well as a period of practical training in a hospital and a community setting.\n",
      "quit\n",
      "Doc Bot: Chat with you later!\n"
     ]
    }
   ],
   "source": [
    "# Start the chat\n",
    "\n",
    "print('Doc Bot: I am Doctor Bot or Doc bot for short. I will answer your queries about Dietian, If you want to exit, type bye.')\n",
    "\n",
    "exit_list = ['exit','see you later','bye','quit','break']\n",
    "\n",
    "while (True):\n",
    "    user_input = input()\n",
    "    if user_input.lower() in exit_list:\n",
    "        print('Doc Bot: Chat with you later!')\n",
    "        break\n",
    "    else:\n",
    "        if greeting_response(user_input) != None:\n",
    "            print('Doc Bot: '+greeting_response(user_input))\n",
    "        else:\n",
    "            print('Doc Bot: '+bot_response(user_input))"
   ]
  },
  {
   "cell_type": "code",
   "execution_count": null,
   "id": "4ce0a651",
   "metadata": {},
   "outputs": [],
   "source": []
  }
 ],
 "metadata": {
  "kernelspec": {
   "display_name": "Python 3",
   "language": "python",
   "name": "python3"
  },
  "language_info": {
   "codemirror_mode": {
    "name": "ipython",
    "version": 3
   },
   "file_extension": ".py",
   "mimetype": "text/x-python",
   "name": "python",
   "nbconvert_exporter": "python",
   "pygments_lexer": "ipython3",
   "version": "3.8.8"
  }
 },
 "nbformat": 4,
 "nbformat_minor": 5
}
